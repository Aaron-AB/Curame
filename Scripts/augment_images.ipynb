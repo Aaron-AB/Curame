{
 "cells": [
  {
   "cell_type": "code",
   "execution_count": 1,
   "id": "smaller-batch",
   "metadata": {},
   "outputs": [
    {
     "name": "stdout",
     "output_type": "stream",
     "text": [
      "Requirement already satisfied: Augmentor in c:\\python38\\lib\\site-packages (0.2.8)\n",
      "Requirement already satisfied: Pillow>=5.2.0 in c:\\python38\\lib\\site-packages (from Augmentor) (8.1.0)\n",
      "Requirement already satisfied: future>=0.16.0 in c:\\python38\\lib\\site-packages (from Augmentor) (0.18.2)\n",
      "Requirement already satisfied: numpy>=1.11.0 in c:\\python38\\lib\\site-packages (from Augmentor) (1.19.5)\n",
      "Requirement already satisfied: tqdm>=4.9.0 in c:\\python38\\lib\\site-packages (from Augmentor) (4.57.0)\n",
      "Note: you may need to restart the kernel to use updated packages.\n"
     ]
    }
   ],
   "source": [
    "#Manually install Augmentor using the commandline if this does not work\n",
    "%pip install Augmentor\n",
    "import Augmentor\n",
    "import os"
   ]
  },
  {
   "cell_type": "code",
   "execution_count": 2,
   "id": "cubic-advancement",
   "metadata": {},
   "outputs": [],
   "source": [
    "directories = [\"E:/Data/Class/akiec\",\"E:/Data/Class/bcc\",\"E:/Data/Class/bkl\",\"E:/Data/Class/df\",\"E:/Data/Class/mel\",\n",
    "               \"E:/Data/Class/nv\",\"E:/Data/Class/vasc\"]\n",
    "max_images = 1200\n",
    "\n",
    "\n"
   ]
  },
  {
   "cell_type": "code",
   "execution_count": 3,
   "id": "amazing-sacramento",
   "metadata": {},
   "outputs": [],
   "source": [
    "#count images in directory\n",
    "def count_images(directory):\n",
    "    return(len(os.listdir(directory)))"
   ]
  },
  {
   "cell_type": "code",
   "execution_count": 4,
   "id": "occupied-weather",
   "metadata": {},
   "outputs": [],
   "source": [
    "#Augment individual Directory\n",
    "def augment_Pipeline(directory, num_samples):\n",
    "    \n",
    "    p = Augmentor.Pipeline(directory)\n",
    "    p.flip_left_right(probability=0.6)\n",
    "    p.flip_top_bottom(probability=0.6)\n",
    "    p.random_distortion(probability=1, grid_width=7, grid_height=7, magnitude=8)\n",
    "    p.rotate90(probability=0.8)\n",
    "    p.rotate180(probability=0.8)\n",
    "    p.rotate270(probability=0.8)\n",
    "    p.sample(num_samples)"
   ]
  },
  {
   "cell_type": "code",
   "execution_count": 5,
   "id": "distinct-worker",
   "metadata": {},
   "outputs": [],
   "source": [
    "#Function to augment images\n",
    "def augment_All(directories):\n",
    "    for index, directory in enumerate(directories): \n",
    "        if count_images(directory) < max_images:\n",
    "            print(\"Number of images before: \", count_images(directory))\n",
    "            num_samples = max_images - count_images(directory)\n",
    "            print(\"Samples Create: \", num_samples)\n",
    "            augment_Pipeline(directory, num_samples)\n",
    "            print(\"Number of images now: \", count_images(directory))\n",
    "            "
   ]
  },
  {
   "cell_type": "code",
   "execution_count": 6,
   "id": "turkish-actress",
   "metadata": {},
   "outputs": [
    {
     "name": "stderr",
     "output_type": "stream",
     "text": [
      "\r",
      "Executing Pipeline:   0%|                                                                | 0/872 [00:00<?, ? Samples/s]"
     ]
    },
    {
     "name": "stdout",
     "output_type": "stream",
     "text": [
      "Number of images before:  328\n",
      "Samples Create:  872\n",
      "Initialised with 327 image(s) found.\n",
      "Output directory set to E:/Data/Class/akiec\\output."
     ]
    },
    {
     "name": "stderr",
     "output_type": "stream",
     "text": [
      "Processing <PIL.Image.Image image mode=RGB size=600x450 at 0x1CD7B7DBCD0>: 100%|█| 872/872 [00:07<00:00, 114.43 Samples\n"
     ]
    },
    {
     "name": "stdout",
     "output_type": "stream",
     "text": [
      "Number of images now:  328\n",
      "Number of images before:  514\n",
      "Samples Create:  686\n"
     ]
    },
    {
     "name": "stderr",
     "output_type": "stream",
     "text": [
      "\r",
      "Executing Pipeline:   0%|                                                                | 0/686 [00:00<?, ? Samples/s]"
     ]
    },
    {
     "name": "stdout",
     "output_type": "stream",
     "text": [
      "Initialised with 514 image(s) found.\n",
      "Output directory set to E:/Data/Class/bcc\\output."
     ]
    },
    {
     "name": "stderr",
     "output_type": "stream",
     "text": [
      "Processing <PIL.Image.Image image mode=RGB size=600x450 at 0x1CD7B732DF0>: 100%|█| 686/686 [00:06<00:00, 98.83 Samples/\n"
     ]
    },
    {
     "name": "stdout",
     "output_type": "stream",
     "text": [
      "Number of images now:  515\n",
      "Number of images before:  1099\n",
      "Samples Create:  101\n"
     ]
    },
    {
     "name": "stderr",
     "output_type": "stream",
     "text": [
      "\r",
      "Executing Pipeline:   0%|                                                                | 0/101 [00:00<?, ? Samples/s]"
     ]
    },
    {
     "name": "stdout",
     "output_type": "stream",
     "text": [
      "Initialised with 1099 image(s) found.\n",
      "Output directory set to E:/Data/Class/bkl\\output."
     ]
    },
    {
     "name": "stderr",
     "output_type": "stream",
     "text": [
      "Processing <PIL.Image.Image image mode=RGB size=600x450 at 0x1CD7B6E9310>: 100%|█| 101/101 [00:01<00:00, 63.38 Samples/\n"
     ]
    },
    {
     "name": "stdout",
     "output_type": "stream",
     "text": [
      "Number of images now:  1100\n",
      "Number of images before:  115\n",
      "Samples Create:  1085\n"
     ]
    },
    {
     "name": "stderr",
     "output_type": "stream",
     "text": [
      "\r",
      "Executing Pipeline:   0%|                                                               | 0/1085 [00:00<?, ? Samples/s]"
     ]
    },
    {
     "name": "stdout",
     "output_type": "stream",
     "text": [
      "Initialised with 115 image(s) found.\n",
      "Output directory set to E:/Data/Class/df\\output."
     ]
    },
    {
     "name": "stderr",
     "output_type": "stream",
     "text": [
      "Processing <PIL.Image.Image image mode=RGB size=600x450 at 0x1CD7B6D6160>: 100%|█| 1085/1085 [00:07<00:00, 149.72 Sampl\n"
     ]
    },
    {
     "name": "stdout",
     "output_type": "stream",
     "text": [
      "Number of images now:  116\n",
      "Number of images before:  1113\n",
      "Samples Create:  87\n"
     ]
    },
    {
     "name": "stderr",
     "output_type": "stream",
     "text": [
      "\r",
      "Executing Pipeline:   0%|                                                                 | 0/87 [00:00<?, ? Samples/s]"
     ]
    },
    {
     "name": "stdout",
     "output_type": "stream",
     "text": [
      "Initialised with 1113 image(s) found.\n",
      "Output directory set to E:/Data/Class/mel\\output."
     ]
    },
    {
     "name": "stderr",
     "output_type": "stream",
     "text": [
      "Processing <PIL.Image.Image image mode=RGB size=600x450 at 0x1CD7A0AF8E0>: 100%|█| 87/87 [00:01<00:00, 67.46 Samples/s]\n"
     ]
    },
    {
     "name": "stdout",
     "output_type": "stream",
     "text": [
      "Number of images now:  1114\n",
      "Number of images before:  142\n",
      "Samples Create:  1058\n"
     ]
    },
    {
     "name": "stderr",
     "output_type": "stream",
     "text": [
      "\r",
      "Executing Pipeline:   0%|                                                               | 0/1058 [00:00<?, ? Samples/s]"
     ]
    },
    {
     "name": "stdout",
     "output_type": "stream",
     "text": [
      "Initialised with 142 image(s) found.\n",
      "Output directory set to E:/Data/Class/vasc\\output."
     ]
    },
    {
     "name": "stderr",
     "output_type": "stream",
     "text": [
      "Processing <PIL.Image.Image image mode=RGB size=600x450 at 0x1CD7B7CD430>: 100%|█| 1058/1058 [00:07<00:00, 142.88 Sampl"
     ]
    },
    {
     "name": "stdout",
     "output_type": "stream",
     "text": [
      "Number of images now:  143\n"
     ]
    },
    {
     "name": "stderr",
     "output_type": "stream",
     "text": [
      "\n"
     ]
    }
   ],
   "source": [
    "augment_All(directories)"
   ]
  },
  {
   "cell_type": "code",
   "execution_count": null,
   "id": "illegal-carolina",
   "metadata": {},
   "outputs": [],
   "source": []
  },
  {
   "cell_type": "code",
   "execution_count": null,
   "id": "sexual-klein",
   "metadata": {},
   "outputs": [],
   "source": []
  },
  {
   "cell_type": "code",
   "execution_count": null,
   "id": "million-bouquet",
   "metadata": {},
   "outputs": [],
   "source": []
  },
  {
   "cell_type": "code",
   "execution_count": null,
   "id": "speaking-objective",
   "metadata": {},
   "outputs": [],
   "source": []
  },
  {
   "cell_type": "code",
   "execution_count": null,
   "id": "angry-authorization",
   "metadata": {},
   "outputs": [],
   "source": []
  }
 ],
 "metadata": {
  "kernelspec": {
   "display_name": "Python 3",
   "language": "python",
   "name": "python3"
  },
  "language_info": {
   "codemirror_mode": {
    "name": "ipython",
    "version": 3
   },
   "file_extension": ".py",
   "mimetype": "text/x-python",
   "name": "python",
   "nbconvert_exporter": "python",
   "pygments_lexer": "ipython3",
   "version": "3.8.5"
  }
 },
 "nbformat": 4,
 "nbformat_minor": 5
}
