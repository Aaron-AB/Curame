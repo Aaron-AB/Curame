{
 "cells": [
  {
   "cell_type": "code",
   "execution_count": 48,
   "id": "olive-advancement",
   "metadata": {},
   "outputs": [],
   "source": [
    "import pandas as pd\n",
    "df = pd.read_csv('HAM10000_metadata.csv')\n",
    "\n",
    "akiec = df[df['dx'] == \"akiec\"]\n",
    "bcc = df[df['dx'] == \"bcc\"]\n",
    "bkl = df[df['dx'] == \"bkl\"]\n",
    "dfd = df[df['dx'] == \"df\"] #disease df\n",
    "mel = df[df['dx'] == \"mel\"]\n",
    "nv = df[df['dx'] == \"nv\"]\n",
    "vasc = df[df['dx'] == \"vasc\"]\n",
    "\n",
    "diseases = [akiec, bcc, bkl, dfd, mel, nv, vasc]"
   ]
  },
  {
   "cell_type": "code",
   "execution_count": 49,
   "id": "literary-member",
   "metadata": {},
   "outputs": [
    {
     "name": "stdout",
     "output_type": "stream",
     "text": [
      "0        ISIC_0027419\n",
      "1        ISIC_0025030\n",
      "2        ISIC_0026769\n",
      "3        ISIC_0025661\n",
      "4        ISIC_0031633\n",
      "             ...     \n",
      "10010    ISIC_0033084\n",
      "10011    ISIC_0033550\n",
      "10012    ISIC_0033536\n",
      "10013    ISIC_0032854\n",
      "10014    ISIC_0032258\n",
      "Name: image_id, Length: 10015, dtype: object\n"
     ]
    }
   ],
   "source": [
    "img_ids = df['image_id']\n",
    "print(img_ids)"
   ]
  },
  {
   "cell_type": "code",
   "execution_count": 52,
   "id": "preliminary-society",
   "metadata": {},
   "outputs": [],
   "source": [
    "import shutil\n",
    "import sys, os\n",
    "\n",
    "def move_file(filePath, newFilePath, img_ids):\n",
    "    count = 0\n",
    "    if not os.path.exists(newFilePath):\n",
    "        os.mkdir(newFilePath)\n",
    "        \n",
    "    files = os.listdir(filePath)\n",
    "\n",
    "    for d_image in img_ids:\n",
    "        for image in files:\n",
    "            if d_image+'.jpg' == image:\n",
    "                count = count + 1\n",
    "                shutil.copy(os.path.join(filePath, image), newFilePath)\n",
    "                #print(os.path.join(filePath, image))\n",
    "    print(count)\n",
    "    print(\"###################\")\n",
    "    \n",
    "    "
   ]
  },
  {
   "cell_type": "code",
   "execution_count": 53,
   "id": "valuable-duration",
   "metadata": {},
   "outputs": [
    {
     "name": "stdout",
     "output_type": "stream",
     "text": [
      "327\n",
      "###################\n",
      "514\n",
      "###################\n",
      "1099\n",
      "###################\n",
      "115\n",
      "###################\n",
      "1113\n",
      "###################\n",
      "6705\n",
      "###################\n",
      "142\n",
      "###################\n"
     ]
    }
   ],
   "source": [
    "directory = \"E:/Data/HAM10000_images_part_1\"\n",
    "\n",
    "destination = [\"E:/Data/Class/akiec\",\"E:/Data/Class/bcc\",\"E:/Data/Class/bkl\",\"E:/Data/Class/df\",\"E:/Data/Class/mel\",\n",
    "               \"E:/Data/Class/nv\",\"E:/Data/Class/vasc\"]\n",
    "\n",
    "#for j, image_id in enumerate(img_ids): #looping through all lesions\n",
    "    \n",
    "for k, dest in enumerate(destination): #looping through all destination folders (7 Classes)\n",
    "        move_file(directory, dest, diseases[k]['image_id'])"
   ]
  },
  {
   "cell_type": "code",
   "execution_count": null,
   "id": "difficult-advantage",
   "metadata": {},
   "outputs": [],
   "source": []
  },
  {
   "cell_type": "code",
   "execution_count": null,
   "id": "familiar-hours",
   "metadata": {},
   "outputs": [],
   "source": []
  }
 ],
 "metadata": {
  "kernelspec": {
   "display_name": "Python 3",
   "language": "python",
   "name": "python3"
  },
  "language_info": {
   "codemirror_mode": {
    "name": "ipython",
    "version": 3
   },
   "file_extension": ".py",
   "mimetype": "text/x-python",
   "name": "python",
   "nbconvert_exporter": "python",
   "pygments_lexer": "ipython3",
   "version": "3.8.5"
  }
 },
 "nbformat": 4,
 "nbformat_minor": 5
}
