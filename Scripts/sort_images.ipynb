{
 "cells": [
  {
   "cell_type": "code",
   "execution_count": 18,
   "id": "magnetic-picnic",
   "metadata": {},
   "outputs": [],
   "source": [
    "import pandas as pd\n",
    "df = pd.read_csv('metadata.csv')\n",
    "df = df[df['diagnostic'] == \"BCC\"]"
   ]
  },
  {
   "cell_type": "code",
   "execution_count": 19,
   "id": "fixed-bulletin",
   "metadata": {},
   "outputs": [
    {
     "name": "stdout",
     "output_type": "stream",
     "text": [
      "1         PAT_46_881_939.png\n",
      "4       PAT_684_1302_588.png\n",
      "6       PAT_778_1471_835.png\n",
      "7        PAT_117_179_983.png\n",
      "11      PAT_967_1827_247.png\n",
      "                ...         \n",
      "2280    PAT_681_1299_458.png\n",
      "2282     PAT_136_203_436.png\n",
      "2291     PAT_273_421_905.png\n",
      "2294      PAT_46_880_140.png\n",
      "2296     PAT_326_690_823.png\n",
      "Name: img_id, Length: 845, dtype: object\n"
     ]
    }
   ],
   "source": [
    "import os \n",
    "import sys\n",
    "\n",
    "img_ids = df['img_id']\n",
    "print(img_ids) "
   ]
  },
  {
   "cell_type": "code",
   "execution_count": 27,
   "id": "flying-warehouse",
   "metadata": {},
   "outputs": [
    {
     "name": "stdout",
     "output_type": "stream",
     "text": [
      "540\n",
      "305\n",
      "0\n"
     ]
    }
   ],
   "source": [
    "import shutil\n",
    "\n",
    "def move_file(filePath, newFilePath, img_ids):\n",
    "    count = 0\n",
    "    if not os.path.isdir(newFilePath):\n",
    "        os.mkdir(newFilePath)\n",
    "        \n",
    "    files = os.listdir(filePath)\n",
    "    \n",
    "    for fileName in img_ids:\n",
    "        for f in files:\n",
    "            if fileName == f:\n",
    "                count = count + 1\n",
    "                shutil.copy(os.path.join(filePath, f), newFilePath)\n",
    "    print(count)\n",
    "#shutil.move(source+f, destination)\n",
    "\n",
    "source = [\"E:/Data/imgs_part_1/imgs_part_1\", \"E:/Data/imgs_part_2/imgs_part_2\", \"E:/Data/imgs_part_3/imgs_part_3\"]\n",
    "destination = \"E:/Data/BCC\"\n",
    "\n",
    "\n",
    "for index, val in enumerate(source):\n",
    "    move_file(val, destination, img_ids)\n",
    "    \n",
    "    "
   ]
  },
  {
   "cell_type": "code",
   "execution_count": null,
   "id": "hybrid-interface",
   "metadata": {},
   "outputs": [],
   "source": []
  },
  {
   "cell_type": "code",
   "execution_count": null,
   "id": "recognized-filing",
   "metadata": {},
   "outputs": [],
   "source": []
  }
 ],
 "metadata": {
  "kernelspec": {
   "display_name": "Python 3",
   "language": "python",
   "name": "python3"
  },
  "language_info": {
   "codemirror_mode": {
    "name": "ipython",
    "version": 3
   },
   "file_extension": ".py",
   "mimetype": "text/x-python",
   "name": "python",
   "nbconvert_exporter": "python",
   "pygments_lexer": "ipython3",
   "version": "3.8.5"
  }
 },
 "nbformat": 4,
 "nbformat_minor": 5
}
