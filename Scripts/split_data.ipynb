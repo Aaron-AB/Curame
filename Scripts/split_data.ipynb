{
 "cells": [
  {
   "cell_type": "code",
   "execution_count": 5,
   "id": "inclusive-tutorial",
   "metadata": {},
   "outputs": [],
   "source": [
    "import os\n",
    "from distutils.dir_util import copy_tree\n",
    "import shutil"
   ]
  },
  {
   "cell_type": "code",
   "execution_count": 8,
   "id": "weird-significance",
   "metadata": {},
   "outputs": [],
   "source": [
    "directories = [\"E:/Data/Class/akiec\",\"E:/Data/Class/bcc\",\"E:/Data/Class/bkl\",\"E:/Data/Class/df\",\"E:/Data/Class/mel\",\n",
    "               \"E:/Data/Class/nv\",\"E:/Data/Class/vasc\"]\n",
    "output = []\n",
    "\n",
    "for index, directory in enumerate(directories):\n",
    "    output.append(directory + \"/output\")\n",
    "    \n",
    "\n"
   ]
  },
  {
   "cell_type": "code",
   "execution_count": 3,
   "id": "traditional-success",
   "metadata": {},
   "outputs": [],
   "source": [
    "#Move augmented images from output folder to main folder\n",
    "for index, directory in enumerate(directories):\n",
    "    copy_tree(output[index], directory)\n",
    "    "
   ]
  },
  {
   "cell_type": "code",
   "execution_count": 7,
   "id": "celtic-ethernet",
   "metadata": {},
   "outputs": [],
   "source": [
    "#Delete output folders\n",
    "import shutil\n",
    "for index, directory in enumerate(output):\n",
    "    shutil.rmtree(directory)"
   ]
  },
  {
   "cell_type": "code",
   "execution_count": 8,
   "id": "systematic-draft",
   "metadata": {},
   "outputs": [
    {
     "name": "stdout",
     "output_type": "stream",
     "text": [
      "Collecting split-folders\n",
      "  Downloading split_folders-0.4.3-py3-none-any.whl (7.4 kB)\n",
      "Requirement already satisfied: tqdm in c:\\python38\\lib\\site-packages (4.57.0)\n",
      "Installing collected packages: split-foldersNote: you may need to restart the kernel to use updated packages.\n",
      "\n"
     ]
    },
    {
     "name": "stderr",
     "output_type": "stream",
     "text": [
      "  WARNING: Failed to write executable - trying to use .deleteme logic\n",
      "ERROR: Could not install packages due to an OSError: [WinError 2] The system cannot find the file specified: 'c:\\\\python38\\\\Scripts\\\\split-folders.exe' -> 'c:\\\\python38\\\\Scripts\\\\split-folders.exe.deleteme'\n",
      "\n"
     ]
    }
   ],
   "source": [
    "%pip install split-folders tqdm"
   ]
  },
  {
   "cell_type": "code",
   "execution_count": 12,
   "id": "hairy-nashville",
   "metadata": {},
   "outputs": [],
   "source": [
    "destination = [\"E:/Data/Curame/akiec\",\"E:/Data/Curame/bcc\",\"E:/Data/Curame/bkl\",\"E:/Data/Curame/df\",\"E:/Data/Curame/mel\",\n",
    "               \"E:/Data/Curame/nv\",\"E:/Data/Curame/vasc\"]\n",
    "output = []\n",
    "\n",
    "os.mkdir(\"E:/Data/Curame\")\n",
    "\n",
    "for index, desti in enumerate(destination):\n",
    "    os.mkdir(desti)\n",
    "    \n",
    "    os.mkdir(desti + \"/output\")\n",
    "    os.mkdir(desti + \"/images\")\n",
    "    #shutil.copy(directories[index], desti+\"/output\")\n",
    "    output.append(desti + \"/output\")\n",
    "    \n",
    "    #os.mkdir(desti + \"/output/train\")\n",
    "    #os.mkdir(desti + \"/output/val\")\n",
    "    \n",
    "    "
   ]
  },
  {
   "cell_type": "code",
   "execution_count": 13,
   "id": "romance-slope",
   "metadata": {},
   "outputs": [],
   "source": [
    "from distutils.dir_util import copy_tree\n",
    "\n",
    "for index, directory in enumerate(destination):\n",
    "    copy_tree(directories[index],directory + \"/images\")"
   ]
  },
  {
   "cell_type": "code",
   "execution_count": 1,
   "id": "fifth-specialist",
   "metadata": {},
   "outputs": [
    {
     "name": "stderr",
     "output_type": "stream",
     "text": [
      "Copying files: 0 files [00:00, ? files/s]\n"
     ]
    }
   ],
   "source": [
    "import splitfolders\n",
    "\n",
    "#for index, directory in enumerate(destination):\n",
    "#split_folders.fixed('E:/Data/Curame/akiec/images', output='E:/Data/Curame/akiec/output', seed=1337, fixed=(1, 1), oversample=False, group_prefix=None)\n",
    "splitfolders.ratio('E:/Data/Curame/akiec/images/', output=\"E:/Data/Curame/akiec/output/\", seed=1337, ratio=(.8, .1, .1), group_prefix=None) # default values\n"
   ]
  },
  {
   "cell_type": "code",
   "execution_count": null,
   "id": "substantial-rocket",
   "metadata": {},
   "outputs": [],
   "source": []
  },
  {
   "cell_type": "code",
   "execution_count": null,
   "id": "engaged-projection",
   "metadata": {},
   "outputs": [],
   "source": []
  }
 ],
 "metadata": {
  "kernelspec": {
   "display_name": "Python 3",
   "language": "python",
   "name": "python3"
  },
  "language_info": {
   "codemirror_mode": {
    "name": "ipython",
    "version": 3
   },
   "file_extension": ".py",
   "mimetype": "text/x-python",
   "name": "python",
   "nbconvert_exporter": "python",
   "pygments_lexer": "ipython3",
   "version": "3.8.5"
  }
 },
 "nbformat": 4,
 "nbformat_minor": 5
}
